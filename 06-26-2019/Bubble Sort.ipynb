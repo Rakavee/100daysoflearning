{
 "cells": [
  {
   "cell_type": "code",
   "execution_count": 7,
   "metadata": {},
   "outputs": [
    {
     "name": "stdout",
     "output_type": "stream",
     "text": [
      "4\n",
      "3 5 2 7\n",
      "Array is sorted in 2 swaps.\n",
      "First Element: 2\n",
      "Last Element: 7\n",
      "Sorted List: [2, 3, 5, 7]\n"
     ]
    }
   ],
   "source": [
    "#Naive Bubble Sort\n",
    "import math\n",
    "import os\n",
    "import random\n",
    "import re\n",
    "import sys\n",
    "\n",
    "\n",
    "def countSwaps(a):\n",
    "    noOfSwaps = 0\n",
    "    for i in range(len(a)):\n",
    "        for j in range(len(a)-1):\n",
    "            if a[j]>a[j+1]:\n",
    "                a[j],a[j+1] = a[j+1],a[j]\n",
    "                noOfSwaps += 1\n",
    "    print(\"Array is sorted in\",noOfSwaps,\"swaps.\")\n",
    "    print(\"First Element:\",a[0])\n",
    "    print(\"Last Element:\",a[-1]) \n",
    "    print(\"Sorted List:\",a)\n",
    "    \n",
    "if __name__ == '__main__':\n",
    "    n = int(input())\n",
    "\n",
    "    a = list(map(int, input().rstrip().split()))\n",
    "\n",
    "    countSwaps(a)\n"
   ]
  },
  {
   "cell_type": "markdown",
   "metadata": {},
   "source": [
    "# "
   ]
  }
 ],
 "metadata": {
  "kernelspec": {
   "display_name": "Python 3",
   "language": "python",
   "name": "python3"
  },
  "language_info": {
   "codemirror_mode": {
    "name": "ipython",
    "version": 3
   },
   "file_extension": ".py",
   "mimetype": "text/x-python",
   "name": "python",
   "nbconvert_exporter": "python",
   "pygments_lexer": "ipython3",
   "version": "3.6.4"
  }
 },
 "nbformat": 4,
 "nbformat_minor": 2
}
