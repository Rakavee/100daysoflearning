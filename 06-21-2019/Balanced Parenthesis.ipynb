{
 "cells": [
  {
   "cell_type": "markdown",
   "metadata": {},
   "source": [
    "Given an input string, determine if the parentheses are matched and balanced. () [] {}"
   ]
  },
  {
   "cell_type": "code",
   "execution_count": 17,
   "metadata": {},
   "outputs": [],
   "source": [
    "#function to check if the parentheses are balanced.\n",
    "def balanced_parentheses(string):\n",
    "    open_list = ['(','{','['] #define the list of open parentheses.\n",
    "    close_list = [')','}',']'] #define the list of close parentheses.\n",
    "    stack = [] #stack data structure to match the open and close parentheses one by one maintaing the order.\n",
    "    for i in string: #for each char in the string check for the matching parentheses.\n",
    "        if i in open_list:\n",
    "            stack.append(i) #push every open parentheses to the stack.\n",
    "        elif i in close_list:\n",
    "            if len(stack) > 0 and i == close_list[open_list.index(stack[-1])]: #check for the length of stack to match close parenthses.\n",
    "                stack.pop() #pop the matched open parenthses and continue to next char.\n",
    "            else:\n",
    "                return False #return False at first occurrence of unmatched parentheses.\n",
    "    if len(stack) > 0: #check for any unmatched parentheses left.\n",
    "        return False\n",
    "    else: #when the length of stack is 0, that means all the parentheses are matched.\n",
    "        return True"
   ]
  },
  {
   "cell_type": "code",
   "execution_count": 19,
   "metadata": {},
   "outputs": [
    {
     "name": "stdout",
     "output_type": "stream",
     "text": [
      "Enter a string to check balanced parenthesis: {}\n",
      "The parentheses are balanced in the given string.\n"
     ]
    }
   ],
   "source": [
    "input_string = input(\"Enter a string to check balanced parenthesis: \")\n",
    "if len(input_string) == 0:\n",
    "    print(\"Error: Invalid string\")\n",
    "elif balanced_parentheses(input_string.strip()):\n",
    "    print(\"The parentheses are balanced in the given string.\")\n",
    "else:\n",
    "    print(\"The parentheses are not balanced in the given string.\")"
   ]
  },
  {
   "cell_type": "code",
   "execution_count": null,
   "metadata": {},
   "outputs": [],
   "source": []
  }
 ],
 "metadata": {
  "kernelspec": {
   "display_name": "Python 3",
   "language": "python",
   "name": "python3"
  },
  "language_info": {
   "codemirror_mode": {
    "name": "ipython",
    "version": 3
   },
   "file_extension": ".py",
   "mimetype": "text/x-python",
   "name": "python",
   "nbconvert_exporter": "python",
   "pygments_lexer": "ipython3",
   "version": "3.6.4"
  }
 },
 "nbformat": 4,
 "nbformat_minor": 2
}
