{
 "cells": [
  {
   "cell_type": "code",
   "execution_count": 1,
   "metadata": {},
   "outputs": [],
   "source": [
    "class TreeNode:\n",
    "    def __init__(self, x):\n",
    "        self.val = x\n",
    "        self.left = None\n",
    "        self.right = None\n",
    "    \n"
   ]
  },
  {
   "cell_type": "code",
   "execution_count": 2,
   "metadata": {},
   "outputs": [
    {
     "data": {
      "text/plain": [
       "'def build_binary_tree(val_list): \\n    \\n    if len(val_list) == 3:\\n        root = TreeNode(val_list[1])\\n        root.left = TreeNode(val_list[0])\\n        root.right = TreeNode(val_list[2])\\n        return root\\n    if len(val_list)%2:\\n        i = len(val_list)//2 + 1\\n    root = TreeNode(val_list[i])\\n    root.left = build_binary_tree(val_list[:i])\\n    return root '"
      ]
     },
     "execution_count": 2,
     "metadata": {},
     "output_type": "execute_result"
    }
   ],
   "source": [
    "\"\"\"def build_binary_tree(val_list): \n",
    "    \n",
    "    if len(val_list) == 3:\n",
    "        root = TreeNode(val_list[1])\n",
    "        root.left = TreeNode(val_list[0])\n",
    "        root.right = TreeNode(val_list[2])\n",
    "        return root\n",
    "    if len(val_list)%2:\n",
    "        i = len(val_list)//2 + 1\n",
    "    root = TreeNode(val_list[i])\n",
    "    root.left = build_binary_tree(val_list[:i])\n",
    "    return root \"\"\""
   ]
  },
  {
   "cell_type": "code",
   "execution_count": 3,
   "metadata": {},
   "outputs": [],
   "source": [
    "def display_tree(root):\n",
    "    if root:\n",
    "        display_tree(root.left)\n",
    "        print(root.val,end=\",\")\n",
    "        display_tree(root.right)"
   ]
  },
  {
   "cell_type": "code",
   "execution_count": 4,
   "metadata": {},
   "outputs": [],
   "source": [
    "#recursive inversion\n",
    "def invertTree(root: TreeNode) -> TreeNode:\n",
    "    if not root:\n",
    "        return None\n",
    "    right = invertTree(root.right)\n",
    "    left = invertTree(root.left)\n",
    "    root.left = right;\n",
    "    root.right = left;\n",
    "    return root;\n",
    "        "
   ]
  },
  {
   "cell_type": "code",
   "execution_count": 7,
   "metadata": {},
   "outputs": [
    {
     "name": "stdout",
     "output_type": "stream",
     "text": [
      "Inorder Traversal(Left-Root-Right) after inversion: 7,6,5,4,3,2,1,\b\n"
     ]
    }
   ],
   "source": [
    "\"\"\"val_list = [8,4,3,7,6]\n",
    "root = build_binary_tree(sorted(val_list),None,0)\n",
    "print(\"Inorder Traversal(Left-Root-Right) before inversion:\",end=\" \")\n",
    "display_tree(root)\n",
    "print(\"\\b\")\"\"\"\n",
    "a = TreeNode(4)\n",
    "b = TreeNode(2)\n",
    "c = TreeNode(1)\n",
    "d = TreeNode(3)\n",
    "e = TreeNode(6)\n",
    "f = TreeNode(5)\n",
    "g = TreeNode(7)\n",
    "a.left = b\n",
    "b.left = c\n",
    "b.right = d\n",
    "a.right = e\n",
    "e.left = f\n",
    "e.right = g\n",
    "root = invertTree(a)\n",
    "print(\"Inorder Traversal(Left-Root-Right) after inversion:\",end=\" \")\n",
    "display_tree(root)\n",
    "print(\"\\b\")"
   ]
  },
  {
   "cell_type": "code",
   "execution_count": null,
   "metadata": {},
   "outputs": [],
   "source": []
  }
 ],
 "metadata": {
  "kernelspec": {
   "display_name": "Python 3",
   "language": "python",
   "name": "python3"
  },
  "language_info": {
   "codemirror_mode": {
    "name": "ipython",
    "version": 3
   },
   "file_extension": ".py",
   "mimetype": "text/x-python",
   "name": "python",
   "nbconvert_exporter": "python",
   "pygments_lexer": "ipython3",
   "version": "3.6.4"
  }
 },
 "nbformat": 4,
 "nbformat_minor": 2
}
