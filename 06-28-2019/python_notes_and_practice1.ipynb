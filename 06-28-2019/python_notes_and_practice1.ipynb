{
 "cells": [
  {
   "cell_type": "markdown",
   "metadata": {},
   "source": [
    "# List"
   ]
  },
  {
   "cell_type": "code",
   "execution_count": 1,
   "metadata": {},
   "outputs": [
    {
     "name": "stdout",
     "output_type": "stream",
     "text": [
      "['a', 'i', 'o', 'e', 'u']\n"
     ]
    }
   ],
   "source": [
    "vowels = ['a','i','o','e','u']\n",
    "print(vowels)"
   ]
  },
  {
   "cell_type": "code",
   "execution_count": 2,
   "metadata": {},
   "outputs": [
    {
     "name": "stdout",
     "output_type": "stream",
     "text": [
      "['a', 'e', 'i', 'o', 'u']\n",
      "['a', 'i', 'o', 'e', 'u']\n"
     ]
    }
   ],
   "source": [
    "vowels1 = sorted(vowels) #sorts vowels and stores it separately leaving vowels unmodified\n",
    "print(vowels1)\n",
    "print(vowels)"
   ]
  },
  {
   "cell_type": "code",
   "execution_count": 3,
   "metadata": {},
   "outputs": [
    {
     "name": "stdout",
     "output_type": "stream",
     "text": [
      "['a', 'e', 'i', 'o', 'u']\n"
     ]
    }
   ],
   "source": [
    "vowels.sort() #sorts the list inplace and vowels now has sorted list\n",
    "print(vowels)"
   ]
  },
  {
   "cell_type": "code",
   "execution_count": 4,
   "metadata": {},
   "outputs": [],
   "source": [
    "list_a = [1,4,5,3,2,7]\n",
    "list_b = [4,3,7,6,2,0]"
   ]
  },
  {
   "cell_type": "code",
   "execution_count": 5,
   "metadata": {},
   "outputs": [
    {
     "name": "stdout",
     "output_type": "stream",
     "text": [
      "[(1, 4), (4, 3), (5, 7), (3, 6), (2, 2), (7, 0)]\n",
      "[5, 7, 12, 9, 4, 7]\n"
     ]
    }
   ],
   "source": [
    "\n",
    "l1 = list(zip(list_a,list_b))\n",
    "print(l1)\n",
    "elementwise_sum = [sum(pair) for pair in l1] #[sum(pair) for pair in zip(list_a,list_b)]\n",
    "print(elementwise_sum)"
   ]
  },
  {
   "cell_type": "markdown",
   "metadata": {},
   "source": [
    "List comprehension is faster because it is optimized for the Python interpreter to spot a predictable pattern during looping. <br>\n",
    "source: https://nyu-cds.github.io/python-performance-tips/08-loops/"
   ]
  },
  {
   "cell_type": "code",
   "execution_count": 6,
   "metadata": {},
   "outputs": [
    {
     "name": "stdout",
     "output_type": "stream",
     "text": [
      "['A', 'B', 'C', 'D', 'E', 'F']\n"
     ]
    }
   ],
   "source": [
    "import itertools\n",
    "flatter_list = list(itertools.chain.from_iterable(['ABC', 'DEF']))\n",
    "print(flatter_list)"
   ]
  },
  {
   "cell_type": "code",
   "execution_count": 7,
   "metadata": {},
   "outputs": [
    {
     "name": "stdout",
     "output_type": "stream",
     "text": [
      "30\n"
     ]
    }
   ],
   "source": [
    "import functools\n",
    "product = functools.reduce(lambda out, x:out * x, [3,2,5])\n",
    "print(product)"
   ]
  },
  {
   "cell_type": "code",
   "execution_count": 8,
   "metadata": {},
   "outputs": [
    {
     "data": {
      "text/plain": [
       "[(1, 4),\n",
       " (1, 5),\n",
       " (1, 3),\n",
       " (1, 2),\n",
       " (1, 7),\n",
       " (4, 1),\n",
       " (4, 5),\n",
       " (4, 3),\n",
       " (4, 2),\n",
       " (4, 7),\n",
       " (5, 1),\n",
       " (5, 4),\n",
       " (5, 3),\n",
       " (5, 2),\n",
       " (5, 7),\n",
       " (3, 1),\n",
       " (3, 4),\n",
       " (3, 5),\n",
       " (3, 2),\n",
       " (3, 7),\n",
       " (2, 1),\n",
       " (2, 4),\n",
       " (2, 5),\n",
       " (2, 3),\n",
       " (2, 7),\n",
       " (7, 1),\n",
       " (7, 4),\n",
       " (7, 5),\n",
       " (7, 3),\n",
       " (7, 2)]"
      ]
     },
     "execution_count": 8,
     "metadata": {},
     "output_type": "execute_result"
    }
   ],
   "source": [
    "list(itertools.permutations(list_a,2))"
   ]
  },
  {
   "cell_type": "markdown",
   "metadata": {},
   "source": []
  },
  {
   "cell_type": "markdown",
   "metadata": {},
   "source": [
    "# Lambda, Map, Filter, Reduce"
   ]
  },
  {
   "cell_type": "markdown",
   "metadata": {},
   "source": [
    "A lambda operator or lambda function is used for creating small, one-time, anonymous function objects in Python.<br>\n",
    "Source: https://medium.com/better-programming/lambda-map-and-filter-in-python-4935f248593<br><br>\n",
    "\n",
    "Why use map() function? - https://stackoverflow.com/questions/24110825/why-use-the-map-function<br><br>\n",
    "The function filter(function, list) offers an elegant way to filter out all the elements of a list, for which the function function returns True.<br>\n",
    "The function reduce(func, seq) continually applies the function func() to the sequence seq. It returns a single value. <br>\n",
    "\n",
    "Source: https://www.python-course.eu/lambda.php\n"
   ]
  },
  {
   "cell_type": "code",
   "execution_count": 9,
   "metadata": {},
   "outputs": [
    {
     "name": "stdout",
     "output_type": "stream",
     "text": [
      "5\n",
      "7\n"
     ]
    }
   ],
   "source": [
    "add = lambda x, y : x + y \n",
    "print(add(2, 3))\n",
    "print(add(3, 4))"
   ]
  },
  {
   "cell_type": "code",
   "execution_count": 13,
   "metadata": {},
   "outputs": [
    {
     "data": {
      "text/plain": [
       "['python', 'java']"
      ]
     },
     "execution_count": 13,
     "metadata": {},
     "output_type": "execute_result"
    }
   ],
   "source": [
    "dict_a = [{'lang': 'python', 'year': 1989}, {'lang': 'java', 'year': 1995}]\n",
    "  \n",
    "list(map(lambda x : x['lang'], dict_a))"
   ]
  },
  {
   "cell_type": "code",
   "execution_count": 11,
   "metadata": {},
   "outputs": [
    {
     "data": {
      "text/plain": [
       "[2, 4, 6]"
      ]
     },
     "execution_count": 11,
     "metadata": {},
     "output_type": "execute_result"
    }
   ],
   "source": [
    "a = [1, 2, 3, 4, 5, 6]\n",
    "list(filter(lambda x : x % 2 == 0, a))"
   ]
  },
  {
   "cell_type": "markdown",
   "metadata": {},
   "source": [
    "# Counter"
   ]
  },
  {
   "cell_type": "code",
   "execution_count": 1,
   "metadata": {},
   "outputs": [],
   "source": [
    "from collections import Counter\n",
    "c = Counter('geeksforgeeks')"
   ]
  },
  {
   "cell_type": "markdown",
   "metadata": {},
   "source": [
    "# Enumerate<br>\n",
    "A lot of times when dealing with iterators, we also get a need to keep a count of iterations. Python eases the programmers’ task by providing a built-in function enumerate() for this task.\n",
    "Enumerate() method adds a counter to an iterable and returns it in a form of enumerate object. This enumerate object can then be used directly in for loops or be converted into a list of tuples using list() method.<br>\n",
    "\n",
    "<br>\n",
    "Source: https://www.geeksforgeeks.org/enumerate-in-python/"
   ]
  },
  {
   "cell_type": "code",
   "execution_count": 2,
   "metadata": {},
   "outputs": [
    {
     "data": {
      "text/plain": [
       "Counter({'e': 4, 'f': 1, 'g': 2, 'k': 2, 'o': 1, 'r': 1, 's': 2})"
      ]
     },
     "execution_count": 2,
     "metadata": {},
     "output_type": "execute_result"
    }
   ],
   "source": [
    "c"
   ]
  },
  {
   "cell_type": "code",
   "execution_count": 11,
   "metadata": {},
   "outputs": [
    {
     "data": {
      "text/plain": [
       "{(1, 2)}"
      ]
     },
     "execution_count": 11,
     "metadata": {},
     "output_type": "execute_result"
    }
   ],
   "source": [
    "lst = [tuple(sorted((1,2))),tuple(sorted((2,1)))]\n",
    "set(lst)"
   ]
  },
  {
   "cell_type": "code",
   "execution_count": null,
   "metadata": {},
   "outputs": [],
   "source": []
  }
 ],
 "metadata": {
  "kernelspec": {
   "display_name": "Python 3",
   "language": "python",
   "name": "python3"
  },
  "language_info": {
   "codemirror_mode": {
    "name": "ipython",
    "version": 3
   },
   "file_extension": ".py",
   "mimetype": "text/x-python",
   "name": "python",
   "nbconvert_exporter": "python",
   "pygments_lexer": "ipython3",
   "version": "3.6.4"
  }
 },
 "nbformat": 4,
 "nbformat_minor": 2
}
